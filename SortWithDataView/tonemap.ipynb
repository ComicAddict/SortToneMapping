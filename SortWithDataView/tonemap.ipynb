{
 "cells": [
  {
   "cell_type": "code",
   "execution_count": null,
   "id": "9a492073",
   "metadata": {},
   "outputs": [],
   "source": [
    "import os\n",
    "os.environ[\"OPENCV_IO_ENABLE_OPENEXR\"]=\"1\"\n",
    "import numpy as np\n",
    "import cv2\n",
    "import matplotlib as mpl\n",
    "from matplotlib import pyplot as plt\n",
    "from matplotlib.colors import ListedColormap, LinearSegmentedColormap"
   ]
  },
  {
   "cell_type": "code",
   "execution_count": null,
   "id": "53be6a0d",
   "metadata": {},
   "outputs": [],
   "source": [
    "PATH2EXR = \"C:\\Src\\images\\LuminanceChroma\\Flowers.exr\"\n",
    "img = cv2.imread(PATH2EXR, cv2.IMREAD_ANYCOLOR | cv2.IMREAD_ANYDEPTH)\n",
    "'''\n",
    "you might have to disable following flags, if you are reading a semantic map/label then because it will convert it into binary map so check both lines and see what you need\n",
    "''' \n",
    "# img = cv2.imread(PATH2EXR) \n",
    " \n",
    "img = cv2.cvtColor(img, cv2.COLOR_BGR2RGB)"
   ]
  },
  {
   "cell_type": "code",
   "execution_count": null,
   "id": "0775cb21",
   "metadata": {},
   "outputs": [],
   "source": [
    "img.max()"
   ]
  },
  {
   "cell_type": "code",
   "execution_count": null,
   "id": "7167b9fe",
   "metadata": {},
   "outputs": [],
   "source": [
    "img.min()"
   ]
  },
  {
   "cell_type": "code",
   "execution_count": null,
   "id": "546c9a6c",
   "metadata": {},
   "outputs": [],
   "source": [
    "plt.imshow(img)"
   ]
  },
  {
   "cell_type": "code",
   "execution_count": null,
   "id": "14939517",
   "metadata": {},
   "outputs": [],
   "source": [
    "if(img.min() < 0):\n",
    "    img = img + img.min()\n",
    "img /= img.max()\n"
   ]
  },
  {
   "cell_type": "code",
   "execution_count": null,
   "id": "e1ab3e57",
   "metadata": {},
   "outputs": [],
   "source": [
    "bwimg = np.sqrt(np.sum(np.multiply(img,img), axis=(2,)))"
   ]
  },
  {
   "cell_type": "code",
   "execution_count": null,
   "id": "99275de5",
   "metadata": {
    "scrolled": true
   },
   "outputs": [],
   "source": [
    "plt.imshow(bwimg,interpolation='none', cmap=\"Greys\")"
   ]
  },
  {
   "cell_type": "code",
   "execution_count": null,
   "id": "6ecc3824",
   "metadata": {},
   "outputs": [],
   "source": [
    "# convert to 8 bit image\n",
    "temp = bwimg * 255\n",
    "bwimgint = temp.astype(np.uint8)\n",
    "plt.imshow(bwimgint,interpolation='none', cmap=\"Greys\")\n"
   ]
  },
  {
   "cell_type": "code",
   "execution_count": null,
   "id": "b72c0804",
   "metadata": {},
   "outputs": [],
   "source": [
    "sortedimg = []\n",
    "w = bwimgint.shape[0]\n",
    "h = bwimgint.shape[1]\n",
    "totalPixVal = np.sum(bwimgint)\n",
    "avePixVal = totalPixVal/(w*h)\n",
    "for i in range(w):\n",
    "    for j in range(h):\n",
    "        sortedimg.append([i,j,bwimgint[i][j]])\n",
    "sortedimg.sort(key = lambda sortedimg: sortedimg[2])"
   ]
  },
  {
   "cell_type": "code",
   "execution_count": null,
   "id": "280ec180",
   "metadata": {},
   "outputs": [],
   "source": [
    "sortedimg"
   ]
  },
  {
   "cell_type": "code",
   "execution_count": null,
   "id": "9d718282",
   "metadata": {},
   "outputs": [],
   "source": [
    "hist = np.zeros([256])\n",
    "for pixel in sortedimg:\n",
    "    hist[pixel[2]] += 1\n",
    "plt.plot(hist)"
   ]
  },
  {
   "cell_type": "code",
   "execution_count": null,
   "id": "0ea4695b",
   "metadata": {},
   "outputs": [],
   "source": [
    "eqAmount = int(np.ceil(h*w/256))\n",
    "eqAmount"
   ]
  },
  {
   "cell_type": "code",
   "execution_count": null,
   "id": "c8f2b199",
   "metadata": {},
   "outputs": [],
   "source": [
    "sortedimg = np.array(sortedimg)\n",
    "for i in range(0,255):\n",
    "    sortedimg[i*eqAmount:(i+1)*eqAmount,2] = i\n",
    "    #print(sortedimg[i*eqAmount:(i+1)*eqAmount,2])"
   ]
  },
  {
   "cell_type": "code",
   "execution_count": null,
   "id": "13fa4c0a",
   "metadata": {
    "scrolled": false
   },
   "outputs": [],
   "source": [
    "sortedimg"
   ]
  },
  {
   "cell_type": "code",
   "execution_count": null,
   "id": "a8744e84",
   "metadata": {},
   "outputs": [],
   "source": [
    "newhist = np.zeros([256])\n",
    "for pixel in sortedimg:\n",
    "    newhist[pixel[2]] += 1\n",
    "plt.plot(newhist)\n"
   ]
  },
  {
   "cell_type": "code",
   "execution_count": null,
   "id": "9d2ba349",
   "metadata": {},
   "outputs": [],
   "source": [
    "newimg = np.zeros([w,h])\n",
    "for pix in sortedimg:\n",
    "    newimg[pix[0],pix[1]] = pix[2]"
   ]
  },
  {
   "cell_type": "code",
   "execution_count": null,
   "id": "f37a8fee",
   "metadata": {
    "scrolled": false
   },
   "outputs": [],
   "source": [
    "plt.imshow(newimg,interpolation='none', cmap=\"Greys\")"
   ]
  },
  {
   "cell_type": "code",
   "execution_count": null,
   "id": "2e5320af",
   "metadata": {},
   "outputs": [],
   "source": [
    "diff = np.abs(newimg-bwimgint)\n",
    "#diff /= diff.max()\n",
    "plt.imshow(diff,interpolation='none', cmap=\"Greys\")"
   ]
  },
  {
   "cell_type": "code",
   "execution_count": null,
   "id": "4df8116c",
   "metadata": {},
   "outputs": [],
   "source": [
    "diff"
   ]
  },
  {
   "cell_type": "code",
   "execution_count": null,
   "id": "25ded830",
   "metadata": {
    "scrolled": true
   },
   "outputs": [],
   "source": [
    "diffhist = np.zeros([256])\n",
    "for pixel in diff.reshape(w*h):\n",
    "    diffhist[int(pixel)] += 1\n",
    "plt.plot(newhist)"
   ]
  },
  {
   "cell_type": "code",
   "execution_count": null,
   "id": "67ebdc6a",
   "metadata": {},
   "outputs": [],
   "source": [
    "newhist = np.zeros([256])\n",
    "for pixel in sortedimg:\n",
    "    hist[pixel[2]] += 1\n",
    "plt.plot(newhist)"
   ]
  }
 ],
 "metadata": {
  "kernelspec": {
   "display_name": "Python 3 (ipykernel)",
   "language": "python",
   "name": "python3"
  },
  "language_info": {
   "codemirror_mode": {
    "name": "ipython",
    "version": 3
   },
   "file_extension": ".py",
   "mimetype": "text/x-python",
   "name": "python",
   "nbconvert_exporter": "python",
   "pygments_lexer": "ipython3",
   "version": "3.9.6"
  }
 },
 "nbformat": 4,
 "nbformat_minor": 5
}
